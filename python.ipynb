{
 "cells": [
  {
   "cell_type": "markdown",
   "metadata": {},
   "source": [
    "# Problem 6\n",
    "You can turn a word into pig-Latin using the following two rules (simplified):If the word starts with a consonant, move that letter to the end and append 'ay'. For example, 'happy' becomes 'appyhay' and 'pencil' becomes 'encilpay'.\n",
    "\n",
    "If the word starts with a vowel, simply append 'way' to the end of the word. For example, 'enter' becomes 'enterway' and 'other' becomes 'otherway' . For our purposes, there are 5 vowels: a, e, i, o, u (so we count y as a consonant). Write a function pig() that takes a word (i.e., a string) as input and returns its pig- Latin form. Your function should still work if the input word contains upper case characters. Your output should always be lower case however."
   ]
  },
  {
   "cell_type": "code",
   "execution_count": null,
   "metadata": {},
   "outputs": [],
   "source": [
    "def pig(s):\n",
    "    s = s.lower\n",
    "    if (s.charAt(0) == 'a' || s.charAt(0) == 'e' || s.charAt(0) == 'i' || s.charAt(0) == 'o' || s.charAt(0) == 'u')\n",
    "        s+='way'\n",
    "    else\n",
    "        s=s.substring(1)+s.charAt(0)+'ay'\n",
    "    return s\n",
    "\n",
    "\n",
    "pig('AAa')"
   ]
  },
  {
   "cell_type": "markdown",
   "metadata": {},
   "source": [
    "# Problem 7\n",
    "File bloodtype1.txt records blood-types of patients (A, B, AB, O or OO) at a clinic. Write a function bldcount() that reads the file with name name and reports (i.e., prints) how many patients there are in each bloodtype."
   ]
  },
  {
   "cell_type": "code",
   "execution_count": null,
   "metadata": {},
   "outputs": [],
   "source": [
    "            int A =0;\n",
    "            int AB=0;\n",
    "            int B=0;\n",
    "            int O=0;\n",
    "            int OO=0;\n",
    "            for (int i = 0; i <len ; i++) {\n",
    "                if(result[i].equals(\"A\")){\n",
    "                    A++;\n",
    "                    continue;\n",
    "                }\n",
    "                if(result[i].equals(\"AB\")){\n",
    "                    AB++;\n",
    "                    continue;\n",
    "                }\n",
    "                if(result[i].equals(\"B\")){\n",
    "                    B++;\n",
    "                    continue;\n",
    "                }\n",
    "                if(result[i].equals(\"O\")){\n",
    "                    O++;\n",
    "                    continue;\n",
    "                }\n",
    "\n",
    "                if(result[i].equals(\"OO\")){\n",
    "                    OO++;\n",
    "                    continue;\n",
    "                }\n",
    "            }\n",
    "            if(A==0){\n",
    "                System.out.println(\"There is no patients of blood type A\");\n",
    "            }else if(A==1){\n",
    "                System.out.println(\"There is one patients of blood type A\");\n",
    "            }else{\n",
    "                System.out.println(\"There are \"+A+\" patients of blood type A\");\n",
    "            }\n",
    "\n",
    "            if(B==0){\n",
    "                System.out.println(\"There is no patients of blood type B\");\n",
    "            }else if(B==1){\n",
    "                System.out.println(\"There is one patients of blood type B\");\n",
    "            }else{\n",
    "                System.out.println(\"There are \"+B+\" patients of blood type B\");\n",
    "            }"
   ]
  },
  {
   "cell_type": "markdown",
   "metadata": {},
   "source": [
    "# Problem 8\n",
    "Write a function curconv() that takes as input:\n",
    "1. a currency represented using a string (e.g., 'JPY' for the Japanese Yen or 'EUR' for the Euro)\n",
    "2. an amount\n",
    "and then converts and returns the amount in US dollars."
   ]
  },
  {
   "cell_type": "code",
   "execution_count": null,
   "metadata": {},
   "outputs": [],
   "source": []
  },
  {
   "cell_type": "markdown",
   "metadata": {},
   "source": [
    "# Problem 9\n",
    "Each of the following will cause an exception (an error). Identify what type of exception each will cause."
   ]
  },
  {
   "cell_type": "code",
   "execution_count": null,
   "metadata": {},
   "outputs": [],
   "source": [
    "1.  TypeError\n",
    "2. IndexError\n",
    "3. IndexError\n",
    "4. NameError\n",
    "5. IOError"
   ]
  },
  {
   "cell_type": "markdown",
   "metadata": {},
   "source": [
    "# Problem 10\n",
    "Encryption is the process of hiding the meaning of a text by substituting letters in the message with other letters, according to some system. If the process is successful, no one but the intended recipient can understand the encrypted message. Cryptanalysis refers to attempts to undo the encryption, even if some details of the encryption are unknown (for example, if an encrypted message has been intercepted). The first step of cryptanalysis is often to build up a table of letter frequencies in the encrypted text. Assume that the string letters is already defined as 'abcdefghijklmnopqrstuvwxyz'. Write a function called frequencies() that takes a string as its only parameter, and returns a list of integers, showing the number of times each character appears in the text. Your function may ignore any characters that are not in letters."
   ]
  },
  {
   "cell_type": "code",
   "execution_count": null,
   "metadata": {},
   "outputs": [],
   "source": []
  }
 ],
 "metadata": {
  "kernelspec": {
   "display_name": "Python 3",
   "language": "python",
   "name": "python3"
  },
  "language_info": {
   "codemirror_mode": {
    "name": "ipython",
    "version": 3
   },
   "file_extension": ".py",
   "mimetype": "text/x-python",
   "name": "python",
   "nbconvert_exporter": "python",
   "pygments_lexer": "ipython3",
   "version": "3.8.5"
  }
 },
 "nbformat": 4,
 "nbformat_minor": 4
}
