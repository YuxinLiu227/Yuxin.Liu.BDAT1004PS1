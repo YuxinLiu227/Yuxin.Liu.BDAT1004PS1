{
 "cells": [
  {
   "cell_type": "markdown",
   "metadata": {},
   "source": [
    "Problem Set 1"
   ]
  },
  {
   "cell_type": "markdown",
   "metadata": {},
   "source": [
    "# Question 1\n",
    "The data types are"
   ]
  },
  {
   "cell_type": "markdown",
   "metadata": {},
   "source": [
    "5  int\n",
    "5.0  double\n",
    "5 > 1  bool\n",
    "'5'  char\n",
    "5 * 2  int\n",
    "'5' * 2  \n",
    "'5' + '2'  string\n",
    "5 / 2  double\n",
    "5 // 2  int\n",
    "[5, 2, 1]  Array\n",
    "5 in [1, 4, 6]  bool\n",
    "math.pi  double"
   ]
  },
  {
   "cell_type": "markdown",
   "metadata": {},
   "source": [
    "# Question 2\n",
    "Python expressions"
   ]
  },
  {
   "cell_type": "markdown",
   "metadata": {},
   "source": [
    "a.\n",
    "len(‘Supercalifragilisticexpialidocious’)\n",
    "34 letters\n",
    "\n",
    "b.\n",
    "if 'ice' in 'Supercalifragilisticexpialidocious':\n",
    "    print('Yes')\n",
    "else:\n",
    "    print('No')\n",
    "\n",
    "the output: Yes\n",
    "\n",
    "c.\n",
    "print(max(len('Supercalifragilisticexpialidocious'), len('Honorificabilitudinitatibus')))  # 34\n",
    "print(max(len('Bababadalgharaghtakamminarronnkonn'), len('Honorificabilitudinitatibus')))  # 34\n",
    "\n",
    "#'Supercalifragilisticexpialidocious'和'Bababadalgharaghtakamminarronnkonn'are the longest, 34\n",
    "\n",
    "d.\n",
    "list = ['Berlioz', 'Borodin', 'Brian', 'Bartok', 'Bellini', 'Buxtehude', 'Bernstein']\n",
    "list.sort()\n",
    "print(list)\n",
    "\n",
    "\n",
    "the output: first one'Bartok'，last one 'Buxtehude'"
   ]
  },
  {
   "cell_type": "markdown",
   "metadata": {},
   "source": [
    "# Question 3\n",
    "triangleArea"
   ]
  },
  {
   "cell_type": "code",
   "execution_count": 3,
   "metadata": {},
   "outputs": [],
   "source": [
    "using System;\n",
    "using System.Collections.Generic;\n",
    "public double triangleArea(int a,int b,int c)\n",
    "{\n",
    "float p = (a + b + c) / 2;\n",
    "double s = Math.Sqrt(p * (p - a) * (p - b) * (p - c));\n",
    "    return s;\n",
    "}\n",
    "\n"
   ]
  },
  {
   "cell_type": "markdown",
   "metadata": {},
   "source": [
    "# Question 4\n",
    "separate odd and even integers"
   ]
  },
  {
   "cell_type": "code",
   "execution_count": 4,
   "metadata": {},
   "outputs": [
    {
     "ename": "Unhandled Exception",
     "evalue": "(2,1): error CS7021: Cannot declare namespace in script code",
     "output_type": "error",
     "traceback": [
      "(2,1): error CS7021: Cannot declare namespace in script code"
     ]
    }
   ],
   "source": [
    "using System;\n",
    "namespace Demo {\n",
    "   public class Program {\n",
    "      public static void Main(string[] args) {\n",
    "         int[] arr1 = new int[] {\n",
    "            25,\n",
    "            47,\n",
    "            42,\n",
    "            56,\n",
    "            32\n",
    "         };\n",
    "         int[] arr2 = new int[5];\n",
    "         int[] arr3 = new int[5];\n",
    "         int i, j = 0, k = 0;\n",
    "         for (i = 0; i < 5; i++) {\n",
    "            if (arr1[i] % 2 == 0) {\n",
    "               arr2[j] = arr1[i];\n",
    "               j++;\n",
    "            } else {\n",
    "               arr3[k] = arr1[i];\n",
    "               k++;\n",
    "            }\n",
    "         }\n",
    "         Console.WriteLine(\"The Even elements are:\");\n",
    "         for (i = 0; i < j; i++) {\n",
    "            Console.WriteLine(arr2[i]);\n",
    "         }\n",
    "         Console.WriteLine(\"The Odd elements are:\");\n",
    "         for (i = 0; i < k; i++) {\n",
    "            Console.WriteLine(arr3[i]);\n",
    "         }\n",
    "      }\n",
    "   }\n",
    "}\n"
   ]
  },
  {
   "cell_type": "markdown",
   "metadata": {},
   "source": [
    "# Question 5\n",
    "function"
   ]
  },
  {
   "cell_type": "markdown",
   "metadata": {},
   "source": [
    "a.\n",
    "bool inside(double x, double y, double x1, double y1, double x2, double y2)\n",
    "{\n",
    "    if(x <= x1) return false;\n",
    "    if(x >= x2) return false;\n",
    "    if(y >= y2) return false;\n",
    "    if(y <= y1) return false;\n",
    "    return true;\n",
    "}\n",
    "\n",
    "\n",
    "b.\n",
    "bool isInside()\n",
    "{\n",
    "return inside(1, 1, 0.3, 0.5, 1.1, 0.7) && inside(1, 1, 0.5, 0.2, 1.1, 2);\n",
    "}"
   ]
  }
 ],
 "metadata": {
  "kernelspec": {
   "display_name": ".NET (C#)",
   "language": "C#",
   "name": ".net-csharp"
  },
  "language_info": {
   "file_extension": ".cs",
   "mimetype": "text/x-csharp",
   "name": "C#",
   "pygments_lexer": "csharp",
   "version": "8.0"
  }
 },
 "nbformat": 4,
 "nbformat_minor": 4
}
